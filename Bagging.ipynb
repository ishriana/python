{
 "cells": [
  {
   "cell_type": "code",
   "execution_count": 1,
   "id": "comprehensive-booking",
   "metadata": {},
   "outputs": [],
   "source": [
    "import numpy as np\n",
    "from sklearn import model_selection\n",
    "from sklearn.ensemble import BaggingClassifier\n",
    "from sklearn.tree import DecisionTreeClassifier\n",
    "from sklearn.datasets import load_iris"
   ]
  },
  {
   "cell_type": "code",
   "execution_count": 3,
   "id": "martial-republican",
   "metadata": {},
   "outputs": [],
   "source": [
    "iris = load_iris()\n",
    "X = iris.data\n",
    "Y = iris.target"
   ]
  },
  {
   "cell_type": "code",
   "execution_count": 4,
   "id": "brilliant-translator",
   "metadata": {},
   "outputs": [],
   "source": [
    "X_fit, X_eval, y_fit, y_test= model_selection.train_test_split( X, Y, test_size=0.30, random_state=1 )\n"
   ]
  },
  {
   "cell_type": "code",
   "execution_count": 8,
   "id": "jewish-discount",
   "metadata": {},
   "outputs": [],
   "source": [
    "seed = 7\n",
    "kfold = model_selection.KFold(n_splits=10, random_state=seed, shuffle = True)"
   ]
  },
  {
   "cell_type": "code",
   "execution_count": 9,
   "id": "danish-ocean",
   "metadata": {},
   "outputs": [],
   "source": [
    "cart = DecisionTreeClassifier()\n",
    "num_trees = 100"
   ]
  },
  {
   "cell_type": "code",
   "execution_count": 10,
   "id": "neutral-graphic",
   "metadata": {},
   "outputs": [],
   "source": [
    "model = BaggingClassifier(base_estimator=cart, n_estimators=num_trees, random_state=seed)\n"
   ]
  },
  {
   "cell_type": "code",
   "execution_count": 11,
   "id": "functional-amplifier",
   "metadata": {},
   "outputs": [
    {
     "name": "stdout",
     "output_type": "stream",
     "text": [
      "Model: 0 Accuracy is: 0.9090909090909091\n",
      "Model: 1 Accuracy is: 0.9090909090909091\n",
      "Model: 2 Accuracy is: 1.0\n",
      "Model: 3 Accuracy is: 0.9090909090909091\n",
      "Model: 4 Accuracy is: 1.0\n",
      "Model: 5 Accuracy is: 1.0\n",
      "Model: 6 Accuracy is: 0.9\n",
      "Model: 7 Accuracy is: 0.9\n",
      "Model: 8 Accuracy is: 1.0\n",
      "Model: 9 Accuracy is: 1.0\n",
      "Mean Accuracy is: 0.9527272727272728\n"
     ]
    }
   ],
   "source": [
    "results = model_selection.cross_val_score(model, X_fit, y_fit,cv=kfold)\n",
    "for i in range(len(results)):\n",
    "    print(\"Model: \"+str(i)+\" Accuracy is: \"+str(results[i]))\n",
    "    \n",
    "print(\"Mean Accuracy is: \"+str(results.mean()))\n"
   ]
  },
  {
   "cell_type": "code",
   "execution_count": 12,
   "id": "welcome-stand",
   "metadata": {},
   "outputs": [
    {
     "name": "stdout",
     "output_type": "stream",
     "text": [
      "accuracy is: 95.55555555555556\n"
     ]
    }
   ],
   "source": [
    "model.fit(X_fit, y_fit)\n",
    "pred_label = model.predict(X_eval)\n",
    "nnz = np.shape(y_test)[0] - np.count_nonzero(pred_label - y_test)\n",
    "acc = 100*nnz/np.shape(y_test)[0]\n",
    "print('accuracy is: '+str(acc))"
   ]
  },
  {
   "cell_type": "code",
   "execution_count": null,
   "id": "moved-semester",
   "metadata": {},
   "outputs": [],
   "source": []
  }
 ],
 "metadata": {
  "kernelspec": {
   "display_name": "Python 3",
   "language": "python",
   "name": "python3"
  },
  "language_info": {
   "codemirror_mode": {
    "name": "ipython",
    "version": 3
   },
   "file_extension": ".py",
   "mimetype": "text/x-python",
   "name": "python",
   "nbconvert_exporter": "python",
   "pygments_lexer": "ipython3",
   "version": "3.9.2"
  }
 },
 "nbformat": 4,
 "nbformat_minor": 5
}
